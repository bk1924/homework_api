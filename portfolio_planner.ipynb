{
 "cells": [
  {
   "cell_type": "code",
   "execution_count": null,
   "metadata": {},
   "outputs": [],
   "source": []
  },
  {
   "cell_type": "code",
   "execution_count": 1,
   "metadata": {},
   "outputs": [],
   "source": [
    "import numpy as np\n",
    "import pandas as pd\n",
    "from datetime import datetime, timedelta\n",
    "import matplotlib.pyplot as plt\n",
    "%matplotlib inline"
   ]
  },
  {
   "cell_type": "code",
   "execution_count": 2,
   "metadata": {},
   "outputs": [],
   "source": [
    "np.random.seed(42)"
   ]
  },
  {
   "cell_type": "markdown",
   "metadata": {},
   "source": [
    "# Portfolio Planner\n",
    "\n",
    "In this activity, you will use the iedfinance api to grab historical data for a 60/40 portfolio using `SPY` to represent the stock portion and `AGG` to represent the bonds."
   ]
  },
  {
   "cell_type": "code",
   "execution_count": 3,
   "metadata": {},
   "outputs": [],
   "source": [
    "from iexfinance.stocks import get_historical_data\n",
    "import iexfinance as iex"
   ]
  },
  {
   "cell_type": "markdown",
   "metadata": {},
   "source": [
    "# Data Collection\n",
    "\n",
    "In this step, you will need to use the IEX api to fetch closing prices for the `SPY` and `AGG` tickers. Save the results as a pandas DataFrame"
   ]
  },
  {
   "cell_type": "code",
   "execution_count": 4,
   "metadata": {},
   "outputs": [
    {
     "data": {
      "text/html": [
       "<div>\n",
       "<style scoped>\n",
       "    .dataframe tbody tr th:only-of-type {\n",
       "        vertical-align: middle;\n",
       "    }\n",
       "\n",
       "    .dataframe tbody tr th {\n",
       "        vertical-align: top;\n",
       "    }\n",
       "\n",
       "    .dataframe thead tr th {\n",
       "        text-align: left;\n",
       "    }\n",
       "\n",
       "    .dataframe thead tr:last-of-type th {\n",
       "        text-align: right;\n",
       "    }\n",
       "</style>\n",
       "<table border=\"1\" class=\"dataframe\">\n",
       "  <thead>\n",
       "    <tr>\n",
       "      <th></th>\n",
       "      <th>SPY</th>\n",
       "      <th>AGG</th>\n",
       "    </tr>\n",
       "    <tr>\n",
       "      <th></th>\n",
       "      <th>close</th>\n",
       "      <th>close</th>\n",
       "    </tr>\n",
       "    <tr>\n",
       "      <th>date</th>\n",
       "      <th></th>\n",
       "      <th></th>\n",
       "    </tr>\n",
       "  </thead>\n",
       "  <tbody>\n",
       "    <tr>\n",
       "      <th>2016-04-19</th>\n",
       "      <td>209.90</td>\n",
       "      <td>110.93</td>\n",
       "    </tr>\n",
       "    <tr>\n",
       "      <th>2016-04-20</th>\n",
       "      <td>210.10</td>\n",
       "      <td>110.66</td>\n",
       "    </tr>\n",
       "    <tr>\n",
       "      <th>2016-04-21</th>\n",
       "      <td>208.97</td>\n",
       "      <td>110.51</td>\n",
       "    </tr>\n",
       "    <tr>\n",
       "      <th>2016-04-22</th>\n",
       "      <td>208.97</td>\n",
       "      <td>110.52</td>\n",
       "    </tr>\n",
       "    <tr>\n",
       "      <th>2016-04-25</th>\n",
       "      <td>208.61</td>\n",
       "      <td>110.40</td>\n",
       "    </tr>\n",
       "  </tbody>\n",
       "</table>\n",
       "</div>"
      ],
      "text/plain": [
       "               SPY     AGG\n",
       "             close   close\n",
       "date                      \n",
       "2016-04-19  209.90  110.93\n",
       "2016-04-20  210.10  110.66\n",
       "2016-04-21  208.97  110.51\n",
       "2016-04-22  208.97  110.52\n",
       "2016-04-25  208.61  110.40"
      ]
     },
     "execution_count": 4,
     "metadata": {},
     "output_type": "execute_result"
    }
   ],
   "source": [
    "tickers = [\"SPY\", \"AGG\"]\n",
    "end_date = datetime.now()\n",
    "start_date = end_date + timedelta(-1260)\n",
    "df = get_historical_data(tickers, start_date, end_date,  output_format='pandas')\n",
    "df.head\n",
    "\n",
    "df.drop(columns = ['open', 'high', 'low', 'volume'], level=1, inplace=True)\n",
    "df.head()"
   ]
  },
  {
   "cell_type": "markdown",
   "metadata": {},
   "source": [
    "# Monte Carlo Simulation\n",
    "\n",
    "In this step, you will run Monte Carlo Simulations for your portfolio to model portfolio performance at different retirement ages. \n",
    "\n",
    "Complete the following steps:\n",
    "1. Calculate the daily returns for the SPY and AGG closing prices.\n",
    "2. Calculate volatility for both the SPY and AGG closing prices.\n",
    "3. Find the last day's closing price for both stocks and save those as variables.\n",
    "4. Run a Monte Carlo Simulation of at least 100 iterations and generate at least 20 years of closing prices\n",
    "\n",
    "### HINTS:\n",
    "There are 252 trading days per year, so the number of records to generate for each Monte Carlo run will be 252 days * 20 years"
   ]
  },
  {
   "cell_type": "code",
   "execution_count": 5,
   "metadata": {},
   "outputs": [
    {
     "name": "stdout",
     "output_type": "stream",
     "text": [
      "2.4861875995694248e-05\n",
      "0.0004312925226521404\n"
     ]
    }
   ],
   "source": [
    "# Calculate the daily roi for the stocks\n",
    "daily_returns = df.pct_change()\n",
    "daily_returns.head()\n",
    "\n",
    "avg_daily_return_spy = daily_returns.mean()['SPY']['close']\n",
    "avg_daily_return_agg = daily_returns.mean()['AGG']['close']\n",
    "\n",
    "print(avg_daily_return_agg)\n",
    "print(avg_daily_return_spy)"
   ]
  },
  {
   "cell_type": "code",
   "execution_count": 6,
   "metadata": {},
   "outputs": [
    {
     "name": "stdout",
     "output_type": "stream",
     "text": [
      "0.0019136763468337948\n",
      "0.008019816027026014\n"
     ]
    }
   ],
   "source": [
    "# Calculate volatility\n",
    "std_daily_return_spy = daily_returns.std()['SPY']['close']\n",
    "std_daily_return_agg = daily_returns.std()['AGG']['close']\n",
    "\n",
    "print(std_daily_return_agg)\n",
    "print(std_daily_return_spy)"
   ]
  },
  {
   "cell_type": "code",
   "execution_count": 7,
   "metadata": {},
   "outputs": [],
   "source": [
    "# Save the last day's closing price\n",
    "spy_last_price = df['SPY']['close'][-1]\n",
    "agg_last_price = df['AGG']['close'][-1]"
   ]
  },
  {
   "cell_type": "code",
   "execution_count": 15,
   "metadata": {},
   "outputs": [],
   "source": [
    "# Setup the Monte Carlo Parameters\n",
    "num_simulations = 500\n",
    "num_trading_days = 252 * 30\n",
    "monte_carlo = pd.DataFrame()\n",
    "portfolio_cumulative_returns = pd.DataFrame()"
   ]
  },
  {
   "cell_type": "code",
   "execution_count": 16,
   "metadata": {},
   "outputs": [
    {
     "data": {
      "text/html": [
       "<div>\n",
       "<style scoped>\n",
       "    .dataframe tbody tr th:only-of-type {\n",
       "        vertical-align: middle;\n",
       "    }\n",
       "\n",
       "    .dataframe tbody tr th {\n",
       "        vertical-align: top;\n",
       "    }\n",
       "\n",
       "    .dataframe thead th {\n",
       "        text-align: right;\n",
       "    }\n",
       "</style>\n",
       "<table border=\"1\" class=\"dataframe\">\n",
       "  <thead>\n",
       "    <tr style=\"text-align: right;\">\n",
       "      <th></th>\n",
       "      <th>0</th>\n",
       "      <th>1</th>\n",
       "      <th>2</th>\n",
       "      <th>3</th>\n",
       "      <th>4</th>\n",
       "      <th>5</th>\n",
       "      <th>6</th>\n",
       "      <th>7</th>\n",
       "      <th>8</th>\n",
       "      <th>9</th>\n",
       "      <th>...</th>\n",
       "      <th>490</th>\n",
       "      <th>491</th>\n",
       "      <th>492</th>\n",
       "      <th>493</th>\n",
       "      <th>494</th>\n",
       "      <th>495</th>\n",
       "      <th>496</th>\n",
       "      <th>497</th>\n",
       "      <th>498</th>\n",
       "      <th>499</th>\n",
       "    </tr>\n",
       "  </thead>\n",
       "  <tbody>\n",
       "    <tr>\n",
       "      <th>0</th>\n",
       "      <td>1.000000</td>\n",
       "      <td>1.000000</td>\n",
       "      <td>1.000000</td>\n",
       "      <td>1.000000</td>\n",
       "      <td>1.000000</td>\n",
       "      <td>1.000000</td>\n",
       "      <td>1.000000</td>\n",
       "      <td>1.000000</td>\n",
       "      <td>1.000000</td>\n",
       "      <td>1.000000</td>\n",
       "      <td>...</td>\n",
       "      <td>1.000000</td>\n",
       "      <td>1.000000</td>\n",
       "      <td>1.000000</td>\n",
       "      <td>1.000000</td>\n",
       "      <td>1.000000</td>\n",
       "      <td>1.000000</td>\n",
       "      <td>1.000000</td>\n",
       "      <td>1.000000</td>\n",
       "      <td>1.000000</td>\n",
       "      <td>1.000000</td>\n",
       "    </tr>\n",
       "    <tr>\n",
       "      <th>1</th>\n",
       "      <td>1.001249</td>\n",
       "      <td>1.000103</td>\n",
       "      <td>0.995956</td>\n",
       "      <td>0.999521</td>\n",
       "      <td>1.003374</td>\n",
       "      <td>0.996791</td>\n",
       "      <td>0.998879</td>\n",
       "      <td>1.005820</td>\n",
       "      <td>1.006680</td>\n",
       "      <td>1.006977</td>\n",
       "      <td>...</td>\n",
       "      <td>0.991075</td>\n",
       "      <td>1.005749</td>\n",
       "      <td>1.005641</td>\n",
       "      <td>0.997030</td>\n",
       "      <td>0.996404</td>\n",
       "      <td>1.001252</td>\n",
       "      <td>1.013269</td>\n",
       "      <td>1.001671</td>\n",
       "      <td>0.996848</td>\n",
       "      <td>0.996946</td>\n",
       "    </tr>\n",
       "    <tr>\n",
       "      <th>2</th>\n",
       "      <td>0.997977</td>\n",
       "      <td>0.992435</td>\n",
       "      <td>0.993630</td>\n",
       "      <td>0.997340</td>\n",
       "      <td>1.010995</td>\n",
       "      <td>0.996573</td>\n",
       "      <td>0.995488</td>\n",
       "      <td>1.006873</td>\n",
       "      <td>1.018363</td>\n",
       "      <td>1.006975</td>\n",
       "      <td>...</td>\n",
       "      <td>0.985751</td>\n",
       "      <td>1.007451</td>\n",
       "      <td>1.012387</td>\n",
       "      <td>0.992004</td>\n",
       "      <td>1.001152</td>\n",
       "      <td>1.000551</td>\n",
       "      <td>1.014150</td>\n",
       "      <td>1.005666</td>\n",
       "      <td>1.002630</td>\n",
       "      <td>0.998323</td>\n",
       "    </tr>\n",
       "    <tr>\n",
       "      <th>3</th>\n",
       "      <td>0.995915</td>\n",
       "      <td>0.991347</td>\n",
       "      <td>0.992668</td>\n",
       "      <td>0.995142</td>\n",
       "      <td>1.010841</td>\n",
       "      <td>0.999526</td>\n",
       "      <td>0.999236</td>\n",
       "      <td>1.004914</td>\n",
       "      <td>1.024821</td>\n",
       "      <td>1.007774</td>\n",
       "      <td>...</td>\n",
       "      <td>0.983555</td>\n",
       "      <td>1.009309</td>\n",
       "      <td>1.017292</td>\n",
       "      <td>0.989994</td>\n",
       "      <td>0.995278</td>\n",
       "      <td>1.008502</td>\n",
       "      <td>1.017446</td>\n",
       "      <td>1.003517</td>\n",
       "      <td>1.006221</td>\n",
       "      <td>0.999086</td>\n",
       "    </tr>\n",
       "    <tr>\n",
       "      <th>4</th>\n",
       "      <td>0.998107</td>\n",
       "      <td>0.991197</td>\n",
       "      <td>0.997955</td>\n",
       "      <td>1.001378</td>\n",
       "      <td>1.010710</td>\n",
       "      <td>1.006676</td>\n",
       "      <td>0.999647</td>\n",
       "      <td>1.008511</td>\n",
       "      <td>1.026959</td>\n",
       "      <td>1.005848</td>\n",
       "      <td>...</td>\n",
       "      <td>0.977933</td>\n",
       "      <td>1.000873</td>\n",
       "      <td>1.017080</td>\n",
       "      <td>0.986748</td>\n",
       "      <td>0.994764</td>\n",
       "      <td>1.007247</td>\n",
       "      <td>1.017925</td>\n",
       "      <td>1.000588</td>\n",
       "      <td>0.997639</td>\n",
       "      <td>0.996113</td>\n",
       "    </tr>\n",
       "  </tbody>\n",
       "</table>\n",
       "<p>5 rows × 500 columns</p>\n",
       "</div>"
      ],
      "text/plain": [
       "        0         1         2         3         4         5         6    \\\n",
       "0  1.000000  1.000000  1.000000  1.000000  1.000000  1.000000  1.000000   \n",
       "1  1.001249  1.000103  0.995956  0.999521  1.003374  0.996791  0.998879   \n",
       "2  0.997977  0.992435  0.993630  0.997340  1.010995  0.996573  0.995488   \n",
       "3  0.995915  0.991347  0.992668  0.995142  1.010841  0.999526  0.999236   \n",
       "4  0.998107  0.991197  0.997955  1.001378  1.010710  1.006676  0.999647   \n",
       "\n",
       "        7         8         9    ...       490       491       492       493  \\\n",
       "0  1.000000  1.000000  1.000000  ...  1.000000  1.000000  1.000000  1.000000   \n",
       "1  1.005820  1.006680  1.006977  ...  0.991075  1.005749  1.005641  0.997030   \n",
       "2  1.006873  1.018363  1.006975  ...  0.985751  1.007451  1.012387  0.992004   \n",
       "3  1.004914  1.024821  1.007774  ...  0.983555  1.009309  1.017292  0.989994   \n",
       "4  1.008511  1.026959  1.005848  ...  0.977933  1.000873  1.017080  0.986748   \n",
       "\n",
       "        494       495       496       497       498       499  \n",
       "0  1.000000  1.000000  1.000000  1.000000  1.000000  1.000000  \n",
       "1  0.996404  1.001252  1.013269  1.001671  0.996848  0.996946  \n",
       "2  1.001152  1.000551  1.014150  1.005666  1.002630  0.998323  \n",
       "3  0.995278  1.008502  1.017446  1.003517  1.006221  0.999086  \n",
       "4  0.994764  1.007247  1.017925  1.000588  0.997639  0.996113  \n",
       "\n",
       "[5 rows x 500 columns]"
      ]
     },
     "execution_count": 16,
     "metadata": {},
     "output_type": "execute_result"
    }
   ],
   "source": [
    "num_simulations = 500\n",
    "num_trading_days = 252 * 30\n",
    "\n",
    "spy_last_price = df['SPY']['close'][-1]\n",
    "agg_last_price = df['AGG']['close'][-1]\n",
    "\n",
    "\n",
    "monte_carlo = pd.DataFrame()\n",
    "portfolio_cumulative_returns = pd.DataFrame()\n",
    "\n",
    "for n in range(num_simulations):\n",
    "    simulated_spy_prices = [spy_last_price]\n",
    "    simulated_agg_prices = [agg_last_price]\n",
    "    \n",
    "    for i in range(num_trading_days):\n",
    "        simulated_spy_price = simulated_spy_prices[-1] * (1 + np.random.normal(avg_daily_return_spy, std_daily_return_spy))\n",
    "        simulated_agg_price = simulated_agg_prices[-1] * (1 + np.random.normal(avg_daily_return_agg, std_daily_return_agg))\n",
    "        \n",
    "        simulated_spy_prices.append(simulated_spy_price)\n",
    "        simulated_agg_prices.append(simulated_agg_price)\n",
    "        \n",
    "        \n",
    "    monte_carlo['SPY Prices'] = pd.Series(simulated_spy_prices)\n",
    "    monte_carlo['AGG Prices'] = pd.Series(simulated_agg_prices)\n",
    "    \n",
    "    \n",
    "    simulated_daily_return = monte_carlo.pct_change()\n",
    "    \n",
    "    \n",
    "    weights = [0.60, 0.40]\n",
    "    \n",
    "    portfolio_daily_return = simulated_daily_return.dot(weights)\n",
    "    portfolio_cumulative_returns[n] = (1+ portfolio_daily_return.fillna(0)).cumprod()\n",
    "\n",
    "\n",
    "portfolio_cumulative_returns.head()"
   ]
  },
  {
   "cell_type": "code",
   "execution_count": 17,
   "metadata": {},
   "outputs": [
    {
     "data": {
      "image/png": "[encoded data removed]",
      "text/plain": [
       "<Figure size 432x288 with 1 Axes>"
      ]
     },
     "metadata": {
      "needs_background": "light"
     },
     "output_type": "display_data"
    }
   ],
   "source": [
    "# Visualize the Simulation\n",
    "portfolio_cumulative_returns.plot(legend=None)\n",
    "plt.show()"
   ]
  },
  {
   "cell_type": "code",
   "execution_count": 18,
   "metadata": {},
   "outputs": [
    {
     "data": {
      "text/plain": [
       "0    11.354038\n",
       "1     5.129239\n",
       "2    10.348583\n",
       "3     9.541220\n",
       "4     7.990371\n",
       "Name: 7560, dtype: float64"
      ]
     },
     "execution_count": 18,
     "metadata": {},
     "output_type": "execute_result"
    }
   ],
   "source": [
    "# Select the last row for the cumulative returns (cumulative returns at 30 years)\n",
    "ending_cumulative_returns_30 = portfolio_cumulative_returns.iloc[-1, :]\n",
    "ending_cumulative_returns_30.head()"
   ]
  },
  {
   "cell_type": "code",
   "execution_count": 19,
   "metadata": {},
   "outputs": [
    {
     "data": {
      "text/plain": [
       "0    4.699043\n",
       "1    2.740279\n",
       "2    7.615175\n",
       "3    4.202758\n",
       "4    3.636661\n",
       "Name: 5040, dtype: float64"
      ]
     },
     "execution_count": 19,
     "metadata": {},
     "output_type": "execute_result"
    }
   ],
   "source": [
    "# Select the last row for the cumulative returns (cumulative returns at 20 years)\n",
    "ending_cumulative_returns_20 = portfolio_cumulative_returns.iloc[-2521, :]\n",
    "ending_cumulative_returns_20.head()"
   ]
  },
  {
   "cell_type": "code",
   "execution_count": 20,
   "metadata": {},
   "outputs": [
    {
     "name": "stdout",
     "output_type": "stream",
     "text": [
      "0.05     3.317742\n",
      "0.95    13.238223\n",
      "Name: 7560, dtype: float64\n",
      "0.05    2.112529\n",
      "0.95    6.351906\n",
      "Name: 5040, dtype: float64\n"
     ]
    }
   ],
   "source": [
    "# Display the 90% confidence interval for the ending returns\n",
    "confidence_interval_30 = ending_cumulative_returns_30.quantile(q=[0.05, 0.95])\n",
    "confidence_interval_20 = ending_cumulative_returns_20.quantile(q=[0.05, 0.95])\n",
    "\n",
    "print(confidence_interval_30)\n",
    "print(confidence_interval_20)"
   ]
  },
  {
   "cell_type": "code",
   "execution_count": 29,
   "metadata": {},
   "outputs": [
    {
     "data": {
      "text/plain": [
       "<matplotlib.lines.Line2D at 0x11e96fc88>"
      ]
     },
     "execution_count": 29,
     "metadata": {},
     "output_type": "execute_result"
    },
    {
     "data": {
      "image/png": "[encoded data removed]",
      "text/plain": [
       "<Figure size 432x288 with 1 Axes>"
      ]
     },
     "metadata": {
      "needs_background": "light"
     },
     "output_type": "display_data"
    }
   ],
   "source": [
    "# Visualize the distribution of the ending returns\n",
    "ending_cumulative_returns_30.plot(kind='hist', density=True, bins=20)\n",
    "ending_cumulative_returns_30.value_counts(bins=10) / len(ending_cumulative_returns_30)\n",
    "plt.axvline(confidence_interval_30.iloc[0], color='r')\n",
    "plt.axvline(confidence_interval_30.iloc[1], color='r')\n"
   ]
  },
  {
   "cell_type": "markdown",
   "metadata": {},
   "source": [
    "---"
   ]
  },
  {
   "cell_type": "markdown",
   "metadata": {},
   "source": [
    "# Retirement Analysis\n",
    "\n",
    "In this section, you will use the monte carlo model to answer the following retirement planning questions:\n",
    "\n",
    "1. What are the expected cumulative returns at 30 years for the 10th, 50th, and 90th percentiles?\n",
    "2. Given an initial investment of `$20,000`, what is the expected portfolio return in dollars at the 10th, 50th, and 90th percentiles?\n",
    "3. Given the current projected annual income from the Plaid analysis, will a 4% withdraw rate from the retirement portfolio meet or exceed that value at the 10th percentile?\n",
    "4. How would a 50% increase in the initial investment amount affect the 4% retirement withdrawal?"
   ]
  },
  {
   "cell_type": "markdown",
   "metadata": {},
   "source": [
    "### What are the expected cumulative returns at 30 years for the 10th, 50th, and 90th percentiles?"
   ]
  },
  {
   "cell_type": "code",
   "execution_count": 25,
   "metadata": {},
   "outputs": [
    {
     "data": {
      "text/plain": [
       "(5.188, 6.854]      0.236\n",
       "(6.854, 8.52]       0.222\n",
       "(3.522, 5.188]      0.152\n",
       "(8.52, 10.186]      0.146\n",
       "(10.186, 11.852]    0.096\n",
       "(1.838, 3.522]      0.068\n",
       "(11.852, 13.518]    0.038\n",
       "(15.185, 16.851]    0.016\n",
       "(13.518, 15.185]    0.016\n",
       "(16.851, 18.517]    0.010\n",
       "Name: 7560, dtype: float64"
      ]
     },
     "execution_count": 25,
     "metadata": {},
     "output_type": "execute_result"
    }
   ],
   "source": [
    "initial_investment = 20000\n",
    "confidence_interval_10 = ending_cumulative_returns_30.quantile(q=[0.95, 0.05])\n",
    "confidence_interval_50 = ending_cumulative_returns_30.quantile(q=[0.5, 0.5])\n",
    "\n",
    "investment_pnl_lower_bound_90 = (initial_investment * confidence_interval_30.iloc[0])\n",
    "investment_pnl_upper_bound_90 = (initial_investment * confidence_interval_30.iloc[1])\n",
    "       \n",
    "investment_pnl_lower_bound_50 = (initial_investment * confidence_interval_50.iloc[0])\n",
    "investment_pnl_upper_bound_50 = (initial_investment * confidence_interval_50.iloc[1])\n",
    "\n",
    "investment_pnl_lower_bound_10 = (initial_investment * confidence_interval_10.iloc[0])\n",
    "investment_pnl_upper_bound_10 = (initial_investment * confidence_interval_10.iloc[1])\n",
    "\n",
    "ending_cumulative_returns_30.value_counts(bins=10) / len(ending_cumulative_returns_30)"
   ]
  },
  {
   "cell_type": "markdown",
   "metadata": {},
   "source": [
    "### Given an initial investment of `$20,000`, what is the expected portfolio return in dollars at the 10th, 50th, and 90th percentiles?"
   ]
  },
  {
   "cell_type": "code",
   "execution_count": 26,
   "metadata": {},
   "outputs": [
    {
     "name": "stdout",
     "output_type": "stream",
     "text": [
      "There is a 90% chance that an initial investment of $20,000 in the portfolio over the next 7560 trading days will end within in the range of $66354.83353359034 and $264764.45699693996\n",
      "\n",
      "\n",
      "There is a 50% chance that an initial investment of $20,000 in the portfolio over the next 7560 trading days will end within in the range of $142715.9358974036 and $142715.9358974036\n",
      "\n",
      "\n",
      "There is a 10% chance that an initial investment of $20,000 in the portfolio over the next 7560 trading days will end within in the range of $264764.45699693996 and $66354.83353359034\n"
     ]
    }
   ],
   "source": [
    "print(f\"There is a 90% chance that an initial investment of $20,000 in the portfolio\"\n",
    "      f\" over the next 7560 trading days will end within in the range of\"\n",
    "      f\" ${investment_pnl_lower_bound_90} and ${investment_pnl_upper_bound_90}\")\n",
    "print()\n",
    "print()\n",
    "\n",
    "print(f\"There is a 50% chance that an initial investment of $20,000 in the portfolio\"\n",
    "      f\" over the next 7560 trading days will end within in the range of\"\n",
    "      f\" ${investment_pnl_lower_bound_50} and ${investment_pnl_upper_bound_50}\")\n",
    "print()\n",
    "print()\n",
    "print(f\"There is a 10% chance that an initial investment of $20,000 in the portfolio\"\n",
    "      f\" over the next 7560 trading days will end within in the range of\"\n",
    "      f\" ${investment_pnl_lower_bound_10} and ${investment_pnl_upper_bound_10}\")"
   ]
  },
  {
   "cell_type": "markdown",
   "metadata": {},
   "source": [
    "### Given the current projected annual income from the Plaid analysis, will a 4% withdraw rate from the retirement portfolio meet or exceed that value at the 10th percentile?\n",
    "\n",
    "Note: This is effectively saying that 90% of the expected returns will be greater than the return at the 10th percentile, so this can help measure the uncertainty about having enough funds at retirement"
   ]
  },
  {
   "cell_type": "code",
   "execution_count": 33,
   "metadata": {},
   "outputs": [
    {
     "data": {
      "text/plain": [
       "3014872.2042329195"
      ]
     },
     "execution_count": 33,
     "metadata": {},
     "output_type": "execute_result"
    }
   ],
   "source": [
    "withraw = 0.04 * (initial_investment * ending_cumulative_returns_30.sum())\n",
    "withraw\n",
    "\n",
    "exceeding value at the 10th percentile"
   ]
  },
  {
   "cell_type": "markdown",
   "metadata": {},
   "source": [
    "### How would a 50% increase in the initial investment amount affect the 4% retirement withdrawal?"
   ]
  },
  {
   "cell_type": "code",
   "execution_count": null,
   "metadata": {},
   "outputs": [],
   "source": [
    "also amount of retirement withdrawl will increased by 50% percent. "
   ]
  },
  {
   "cell_type": "markdown",
   "metadata": {},
   "source": [
    "### Optional Challenge\n",
    "\n",
    "In this section, you will calculate and plot the cumulative returns for the median and 90% confidence intervals. This plot shows the expected cumulative returns for any given day between the first day and the last day of investment. "
   ]
  },
  {
   "cell_type": "code",
   "execution_count": null,
   "metadata": {},
   "outputs": [],
   "source": [
    "# YOUR CODE HERE"
   ]
  }
 ],
 "metadata": {
  "kernel_info": {
   "name": "dev"
  },
  "kernelspec": {
   "display_name": "Python 3",
   "language": "python",
   "name": "python3"
  },
  "language_info": {
   "codemirror_mode": {
    "name": "ipython",
    "version": 3
   },
   "file_extension": ".py",
   "mimetype": "text/x-python",
   "name": "python",
   "nbconvert_exporter": "python",
   "pygments_lexer": "ipython3",
   "version": "3.7.3"
  },
  "nteract": {
   "version": "0.12.3"
  }
 },
 "nbformat": 4,
 "nbformat_minor": 4
}
